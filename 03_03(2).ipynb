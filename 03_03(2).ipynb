{
 "cells": [
  {
   "cell_type": "code",
   "execution_count": 2,
   "metadata": {},
   "outputs": [
    {
     "name": "stdout",
     "output_type": "stream",
     "text": [
      "Original Energy Data with Missing Values:\n",
      "  Energy Source  Energy Consumption (MWh)  Cost (Million $)\n",
      "0         Solar                    1200.0             200.0\n",
      "1          Wind                       NaN             400.0\n",
      "2    Hydropower                    2900.0               NaN\n",
      "3    Geothermal                       NaN             150.0\n",
      "4       Biomass                    2500.0             250.0\n",
      "5       Nuclear                    3200.0               NaN\n"
     ]
    }
   ],
   "source": [
    "import pandas as pd\n",
    "import numpy as np\n",
    "\n",
    "# Sample data with missing values\n",
    "data = {\n",
    "    \"Energy Source\": [\"Solar\", \"Wind\", \"Hydropower\", \"Geothermal\", \"Biomass\", \"Nuclear\"],\n",
    "    \"Energy Consumption (MWh)\": [1200, np.nan, 2900, np.nan, 2500, 3200],\n",
    "    \"Cost (Million $)\": [200, 400, np.nan, 150, 250, np.nan]\n",
    "}\n",
    "\n",
    "# Create a DataFrame\n",
    "energy_df = pd.DataFrame(data)\n",
    "\n",
    "print(\"Original Energy Data with Missing Values:\")\n",
    "print(energy_df)"
   ]
  },
  {
   "cell_type": "code",
   "execution_count": 3,
   "metadata": {},
   "outputs": [
    {
     "name": "stdout",
     "output_type": "stream",
     "text": [
      "\n",
      "Data After Removing Rows with Missing Values:\n",
      "  Energy Source  Energy Consumption (MWh)  Cost (Million $)\n",
      "0         Solar                    1200.0             200.0\n",
      "4       Biomass                    2500.0             250.0\n"
     ]
    }
   ],
   "source": [
    "# Remove rows with any missing values\n",
    "cleaned_df = energy_df.dropna()\n",
    "\n",
    "print(\"\\nData After Removing Rows with Missing Values:\")\n",
    "print(cleaned_df)"
   ]
  },
  {
   "cell_type": "code",
   "execution_count": 4,
   "metadata": {},
   "outputs": [
    {
     "name": "stdout",
     "output_type": "stream",
     "text": [
      "\n",
      "Data After Imputing Missing Values with Mean:\n",
      "  Energy Source  Energy Consumption (MWh)  Cost (Million $)\n",
      "0         Solar                    1200.0             200.0\n",
      "1          Wind                    2450.0             400.0\n",
      "2    Hydropower                    2900.0             250.0\n",
      "3    Geothermal                    2450.0             150.0\n",
      "4       Biomass                    2500.0             250.0\n",
      "5       Nuclear                    3200.0             250.0\n"
     ]
    },
    {
     "name": "stderr",
     "output_type": "stream",
     "text": [
      "C:\\Users\\user\\AppData\\Local\\Temp\\ipykernel_16864\\3415828512.py:2: FutureWarning: A value is trying to be set on a copy of a DataFrame or Series through chained assignment using an inplace method.\n",
      "The behavior will change in pandas 3.0. This inplace method will never work because the intermediate object on which we are setting values always behaves as a copy.\n",
      "\n",
      "For example, when doing 'df[col].method(value, inplace=True)', try using 'df.method({col: value}, inplace=True)' or df[col] = df[col].method(value) instead, to perform the operation inplace on the original object.\n",
      "\n",
      "\n",
      "  energy_df[\"Energy Consumption (MWh)\"].fillna(energy_df[\"Energy Consumption (MWh)\"].mean(), inplace=True)\n",
      "C:\\Users\\user\\AppData\\Local\\Temp\\ipykernel_16864\\3415828512.py:5: FutureWarning: A value is trying to be set on a copy of a DataFrame or Series through chained assignment using an inplace method.\n",
      "The behavior will change in pandas 3.0. This inplace method will never work because the intermediate object on which we are setting values always behaves as a copy.\n",
      "\n",
      "For example, when doing 'df[col].method(value, inplace=True)', try using 'df.method({col: value}, inplace=True)' or df[col] = df[col].method(value) instead, to perform the operation inplace on the original object.\n",
      "\n",
      "\n",
      "  energy_df[\"Cost (Million $)\"].fillna(energy_df[\"Cost (Million $)\"].mean(), inplace=True)\n"
     ]
    }
   ],
   "source": [
    "# Impute missing values in 'Energy Consumption (MWh)' with the mean\n",
    "energy_df[\"Energy Consumption (MWh)\"].fillna(energy_df[\"Energy Consumption (MWh)\"].mean(), inplace=True)\n",
    "\n",
    "# Impute missing values in 'Cost (Million $)' with the mean\n",
    "energy_df[\"Cost (Million $)\"].fillna(energy_df[\"Cost (Million $)\"].mean(), inplace=True)\n",
    "\n",
    "print(\"\\nData After Imputing Missing Values with Mean:\")\n",
    "print(energy_df)"
   ]
  },
  {
   "cell_type": "code",
   "execution_count": 5,
   "metadata": {},
   "outputs": [
    {
     "name": "stdout",
     "output_type": "stream",
     "text": [
      "\n",
      "Data After Forward Filling:\n",
      "  Energy Source  Energy Consumption (MWh)  Cost (Million $)\n",
      "0         Solar                    1200.0             200.0\n",
      "1          Wind                    2450.0             400.0\n",
      "2    Hydropower                    2900.0             250.0\n",
      "3    Geothermal                    2450.0             150.0\n",
      "4       Biomass                    2500.0             250.0\n",
      "5       Nuclear                    3200.0             250.0\n"
     ]
    },
    {
     "name": "stderr",
     "output_type": "stream",
     "text": [
      "C:\\Users\\user\\AppData\\Local\\Temp\\ipykernel_16864\\628832294.py:2: FutureWarning: DataFrame.fillna with 'method' is deprecated and will raise in a future version. Use obj.ffill() or obj.bfill() instead.\n",
      "  forward_filled_df = energy_df.fillna(method=\"ffill\")\n"
     ]
    }
   ],
   "source": [
    "# Forward fill missing values\n",
    "forward_filled_df = energy_df.fillna(method=\"ffill\")\n",
    "\n",
    "print(\"\\nData After Forward Filling:\")\n",
    "print(forward_filled_df)"
   ]
  },
  {
   "cell_type": "code",
   "execution_count": 6,
   "metadata": {},
   "outputs": [
    {
     "name": "stdout",
     "output_type": "stream",
     "text": [
      "\n",
      "Data with Missing Values Flagged:\n",
      "  Energy Source  Energy Consumption (MWh)  Cost (Million $)  \\\n",
      "0         Solar                    1200.0             200.0   \n",
      "1          Wind                    2450.0             400.0   \n",
      "2    Hydropower                    2900.0             250.0   \n",
      "3    Geothermal                    2450.0             150.0   \n",
      "4       Biomass                    2500.0             250.0   \n",
      "5       Nuclear                    3200.0             250.0   \n",
      "\n",
      "   Missing Consumption  \n",
      "0                    0  \n",
      "1                    0  \n",
      "2                    0  \n",
      "3                    0  \n",
      "4                    0  \n",
      "5                    0  \n"
     ]
    }
   ],
   "source": [
    "# Create a flag column indicating missing values in 'Energy Consumption (MWh)'\n",
    "energy_df[\"Missing Consumption\"] = energy_df[\"Energy Consumption (MWh)\"].isna().astype(int)\n",
    "\n",
    "print(\"\\nData with Missing Values Flagged:\")\n",
    "print(energy_df)"
   ]
  },
  {
   "cell_type": "code",
   "execution_count": 7,
   "metadata": {},
   "outputs": [
    {
     "name": "stdout",
     "output_type": "stream",
     "text": [
      "\n",
      "Data After Normalization (Min-Max Scaling):\n",
      "  Energy Source  Energy Consumption (MWh)  Cost (Million $)  \\\n",
      "0         Solar                     0.000               0.2   \n",
      "1          Wind                     0.625               1.0   \n",
      "2    Hydropower                     0.850               0.4   \n",
      "3    Geothermal                     0.625               0.0   \n",
      "4       Biomass                     0.650               0.4   \n",
      "5       Nuclear                     1.000               0.4   \n",
      "\n",
      "   Missing Consumption  \n",
      "0                    0  \n",
      "1                    0  \n",
      "2                    0  \n",
      "3                    0  \n",
      "4                    0  \n",
      "5                    0  \n"
     ]
    }
   ],
   "source": [
    "from sklearn.preprocessing import MinMaxScaler\n",
    "\n",
    "# Normalize the 'Energy Consumption (MWh)' and 'Cost (Million $)'\n",
    "scaler = MinMaxScaler()\n",
    "energy_df[[\"Energy Consumption (MWh)\", \"Cost (Million $)\"]] = scaler.fit_transform(\n",
    "    energy_df[[\"Energy Consumption (MWh)\", \"Cost (Million $)\"]]\n",
    ")\n",
    "\n",
    "print(\"\\nData After Normalization (Min-Max Scaling):\")\n",
    "print(energy_df)"
   ]
  },
  {
   "cell_type": "code",
   "execution_count": 8,
   "metadata": {},
   "outputs": [
    {
     "name": "stdout",
     "output_type": "stream",
     "text": [
      "\n",
      "Data After Standardization (Z-score Scaling):\n",
      "  Energy Source  Energy Consumption (MWh)  Cost (Million $)  \\\n",
      "0         Solar             -2.005893e+00     -6.546537e-01   \n",
      "1          Wind              3.563181e-16      1.963961e+00   \n",
      "2    Hydropower              7.221213e-01      1.817029e-16   \n",
      "3    Geothermal              3.563181e-16     -1.309307e+00   \n",
      "4       Biomass              8.023570e-02      1.817029e-16   \n",
      "5       Nuclear              1.203536e+00      1.817029e-16   \n",
      "\n",
      "   Missing Consumption  \n",
      "0                    0  \n",
      "1                    0  \n",
      "2                    0  \n",
      "3                    0  \n",
      "4                    0  \n",
      "5                    0  \n"
     ]
    }
   ],
   "source": [
    "from sklearn.preprocessing import StandardScaler\n",
    "\n",
    "# Standardize the 'Energy Consumption (MWh)' and 'Cost (Million $)'\n",
    "scaler = StandardScaler()\n",
    "energy_df[[\"Energy Consumption (MWh)\", \"Cost (Million $)\"]] = scaler.fit_transform(\n",
    "    energy_df[[\"Energy Consumption (MWh)\", \"Cost (Million $)\"]]\n",
    ")\n",
    "\n",
    "print(\"\\nData After Standardization (Z-score Scaling):\")\n",
    "print(energy_df)"
   ]
  },
  {
   "cell_type": "code",
   "execution_count": 9,
   "metadata": {},
   "outputs": [
    {
     "name": "stdout",
     "output_type": "stream",
     "text": [
      "\n",
      "Data After One-Hot Encoding Categorical Variables:\n",
      "   Energy Consumption (MWh)  Cost (Million $)  Missing Consumption  \\\n",
      "0             -2.005893e+00     -6.546537e-01                    0   \n",
      "1              3.563181e-16      1.963961e+00                    0   \n",
      "2              7.221213e-01      1.817029e-16                    0   \n",
      "3              3.563181e-16     -1.309307e+00                    0   \n",
      "4              8.023570e-02      1.817029e-16                    0   \n",
      "5              1.203536e+00      1.817029e-16                    0   \n",
      "\n",
      "   Energy Source_Biomass  Energy Source_Geothermal  Energy Source_Hydropower  \\\n",
      "0                  False                     False                     False   \n",
      "1                  False                     False                     False   \n",
      "2                  False                     False                      True   \n",
      "3                  False                      True                     False   \n",
      "4                   True                     False                     False   \n",
      "5                  False                     False                     False   \n",
      "\n",
      "   Energy Source_Nuclear  Energy Source_Solar  Energy Source_Wind  \n",
      "0                  False                 True               False  \n",
      "1                  False                False                True  \n",
      "2                  False                False               False  \n",
      "3                  False                False               False  \n",
      "4                  False                False               False  \n",
      "5                   True                False               False  \n"
     ]
    }
   ],
   "source": [
    "# One-hot encode the 'Energy Source' column\n",
    "energy_encoded_df = pd.get_dummies(energy_df, columns=[\"Energy Source\"])\n",
    "\n",
    "print(\"\\nData After One-Hot Encoding Categorical Variables:\")\n",
    "print(energy_encoded_df)"
   ]
  },
  {
   "cell_type": "code",
   "execution_count": 10,
   "metadata": {},
   "outputs": [
    {
     "name": "stdout",
     "output_type": "stream",
     "text": [
      "\n",
      "Data with New Feature (Consumption per $Million):\n",
      "   Energy Consumption (MWh)  Cost (Million $)  Missing Consumption  \\\n",
      "0             -2.005893e+00     -6.546537e-01                    0   \n",
      "1              3.563181e-16      1.963961e+00                    0   \n",
      "2              7.221213e-01      1.817029e-16                    0   \n",
      "3              3.563181e-16     -1.309307e+00                    0   \n",
      "4              8.023570e-02      1.817029e-16                    0   \n",
      "5              1.203536e+00      1.817029e-16                    0   \n",
      "\n",
      "   Energy Source_Biomass  Energy Source_Geothermal  Energy Source_Hydropower  \\\n",
      "0                  False                     False                     False   \n",
      "1                  False                     False                     False   \n",
      "2                  False                     False                      True   \n",
      "3                  False                      True                     False   \n",
      "4                   True                     False                     False   \n",
      "5                  False                     False                     False   \n",
      "\n",
      "   Energy Source_Nuclear  Energy Source_Solar  Energy Source_Wind  \\\n",
      "0                  False                 True               False   \n",
      "1                  False                False                True   \n",
      "2                  False                False               False   \n",
      "3                  False                False               False   \n",
      "4                  False                False               False   \n",
      "5                   True                False               False   \n",
      "\n",
      "   Consumption per $Million  \n",
      "0              3.064052e+00  \n",
      "1              1.814283e-16  \n",
      "2              3.974187e+15  \n",
      "3             -2.721424e-16  \n",
      "4              4.415764e+14  \n",
      "5              6.623646e+15  \n"
     ]
    }
   ],
   "source": [
    "# Create a new feature: Energy Consumption per Million $\n",
    "energy_encoded_df[\"Consumption per $Million\"] = energy_encoded_df[\"Energy Consumption (MWh)\"] / energy_encoded_df[\"Cost (Million $)\"]\n",
    "\n",
    "print(\"\\nData with New Feature (Consumption per $Million):\")\n",
    "print(energy_encoded_df)"
   ]
  },
  {
   "cell_type": "code",
   "execution_count": null,
   "metadata": {},
   "outputs": [],
   "source": []
  }
 ],
 "metadata": {
  "kernelspec": {
   "display_name": "Python 3",
   "language": "python",
   "name": "python3"
  },
  "language_info": {
   "codemirror_mode": {
    "name": "ipython",
    "version": 3
   },
   "file_extension": ".py",
   "mimetype": "text/x-python",
   "name": "python",
   "nbconvert_exporter": "python",
   "pygments_lexer": "ipython3",
   "version": "3.12.0"
  }
 },
 "nbformat": 4,
 "nbformat_minor": 2
}
