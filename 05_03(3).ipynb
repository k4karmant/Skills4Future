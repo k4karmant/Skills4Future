{
 "cells": [
  {
   "cell_type": "code",
   "execution_count": 1,
   "metadata": {},
   "outputs": [],
   "source": [
    "import numpy as np\n",
    "import pandas as pd"
   ]
  },
  {
   "cell_type": "code",
   "execution_count": 2,
   "metadata": {},
   "outputs": [],
   "source": [
    "data = pd.read_csv('Property_train.csv')"
   ]
  },
  {
   "cell_type": "code",
   "execution_count": 3,
   "metadata": {},
   "outputs": [],
   "source": [
    "df = pd.DataFrame(data)"
   ]
  },
  {
   "cell_type": "code",
   "execution_count": 4,
   "metadata": {},
   "outputs": [
    {
     "data": {
      "text/html": [
       "<div>\n",
       "<style scoped>\n",
       "    .dataframe tbody tr th:only-of-type {\n",
       "        vertical-align: middle;\n",
       "    }\n",
       "\n",
       "    .dataframe tbody tr th {\n",
       "        vertical-align: top;\n",
       "    }\n",
       "\n",
       "    .dataframe thead th {\n",
       "        text-align: right;\n",
       "    }\n",
       "</style>\n",
       "<table border=\"1\" class=\"dataframe\">\n",
       "  <thead>\n",
       "    <tr style=\"text-align: right;\">\n",
       "      <th></th>\n",
       "      <th>Junk</th>\n",
       "      <th>InteriorsStyle</th>\n",
       "      <th>PriceIndex8</th>\n",
       "      <th>ListDate</th>\n",
       "      <th>Material</th>\n",
       "      <th>PriceIndex9</th>\n",
       "      <th>Agency</th>\n",
       "      <th>AreaIncomeType</th>\n",
       "      <th>EnvRating</th>\n",
       "      <th>PriceIndex7</th>\n",
       "      <th>...</th>\n",
       "      <th>Region</th>\n",
       "      <th>PriceIndex5</th>\n",
       "      <th>SubModel</th>\n",
       "      <th>Facade</th>\n",
       "      <th>State</th>\n",
       "      <th>NormalisedPopulation</th>\n",
       "      <th>BuildYear</th>\n",
       "      <th>RegionType</th>\n",
       "      <th>PropertyAge</th>\n",
       "      <th>PriceIndex2</th>\n",
       "    </tr>\n",
       "  </thead>\n",
       "  <tbody>\n",
       "    <tr>\n",
       "      <th>0</th>\n",
       "      <td>0</td>\n",
       "      <td>6LLJ</td>\n",
       "      <td>14674.0</td>\n",
       "      <td>9/7/2010</td>\n",
       "      <td>UT7W</td>\n",
       "      <td>8270</td>\n",
       "      <td>CAT3</td>\n",
       "      <td>B</td>\n",
       "      <td>missing</td>\n",
       "      <td>13143.0</td>\n",
       "      <td>...</td>\n",
       "      <td>A</td>\n",
       "      <td>9022.0</td>\n",
       "      <td>6E9G</td>\n",
       "      <td>GREEN</td>\n",
       "      <td>MD</td>\n",
       "      <td>42077</td>\n",
       "      <td>2008</td>\n",
       "      <td>A</td>\n",
       "      <td>2</td>\n",
       "      <td>10692.0</td>\n",
       "    </tr>\n",
       "    <tr>\n",
       "      <th>1</th>\n",
       "      <td>1</td>\n",
       "      <td>XZ9F</td>\n",
       "      <td>4172.0</td>\n",
       "      <td>1/7/2009</td>\n",
       "      <td>PRN0</td>\n",
       "      <td>3890</td>\n",
       "      <td>CAT2</td>\n",
       "      <td>B</td>\n",
       "      <td>missing</td>\n",
       "      <td>3461.0</td>\n",
       "      <td>...</td>\n",
       "      <td>A</td>\n",
       "      <td>2742.0</td>\n",
       "      <td>FIVQ</td>\n",
       "      <td>SILVER</td>\n",
       "      <td>OK</td>\n",
       "      <td>77258</td>\n",
       "      <td>2002</td>\n",
       "      <td>A</td>\n",
       "      <td>7</td>\n",
       "      <td>3615.0</td>\n",
       "    </tr>\n",
       "    <tr>\n",
       "      <th>2</th>\n",
       "      <td>0</td>\n",
       "      <td>QWEV</td>\n",
       "      <td>8210.0</td>\n",
       "      <td>6/23/2010</td>\n",
       "      <td>A9RA</td>\n",
       "      <td>5900</td>\n",
       "      <td>CAT1</td>\n",
       "      <td>B</td>\n",
       "      <td>missing</td>\n",
       "      <td>6922.0</td>\n",
       "      <td>...</td>\n",
       "      <td>A</td>\n",
       "      <td>3768.0</td>\n",
       "      <td>4K0H</td>\n",
       "      <td>SILVER</td>\n",
       "      <td>SC</td>\n",
       "      <td>94514</td>\n",
       "      <td>2004</td>\n",
       "      <td>A</td>\n",
       "      <td>6</td>\n",
       "      <td>5805.0</td>\n",
       "    </tr>\n",
       "    <tr>\n",
       "      <th>3</th>\n",
       "      <td>0</td>\n",
       "      <td>MK2K</td>\n",
       "      <td>7309.0</td>\n",
       "      <td>3/19/2009</td>\n",
       "      <td>RRJQ</td>\n",
       "      <td>7460</td>\n",
       "      <td>OTHER</td>\n",
       "      <td>A</td>\n",
       "      <td>missing</td>\n",
       "      <td>6300.0</td>\n",
       "      <td>...</td>\n",
       "      <td>A</td>\n",
       "      <td>5370.0</td>\n",
       "      <td>ZLXY</td>\n",
       "      <td>WHITE</td>\n",
       "      <td>NC</td>\n",
       "      <td>82302</td>\n",
       "      <td>2002</td>\n",
       "      <td>C</td>\n",
       "      <td>7</td>\n",
       "      <td>6444.0</td>\n",
       "    </tr>\n",
       "    <tr>\n",
       "      <th>4</th>\n",
       "      <td>0</td>\n",
       "      <td>GK4G</td>\n",
       "      <td>9182.0</td>\n",
       "      <td>3/3/2010</td>\n",
       "      <td>HE5A</td>\n",
       "      <td>6400</td>\n",
       "      <td>OTHER</td>\n",
       "      <td>B</td>\n",
       "      <td>missing</td>\n",
       "      <td>8330.0</td>\n",
       "      <td>...</td>\n",
       "      <td>A</td>\n",
       "      <td>4803.0</td>\n",
       "      <td>FIVQ</td>\n",
       "      <td>SILVER</td>\n",
       "      <td>SC</td>\n",
       "      <td>49176</td>\n",
       "      <td>2007</td>\n",
       "      <td>B</td>\n",
       "      <td>3</td>\n",
       "      <td>6286.0</td>\n",
       "    </tr>\n",
       "    <tr>\n",
       "      <th>...</th>\n",
       "      <td>...</td>\n",
       "      <td>...</td>\n",
       "      <td>...</td>\n",
       "      <td>...</td>\n",
       "      <td>...</td>\n",
       "      <td>...</td>\n",
       "      <td>...</td>\n",
       "      <td>...</td>\n",
       "      <td>...</td>\n",
       "      <td>...</td>\n",
       "      <td>...</td>\n",
       "      <td>...</td>\n",
       "      <td>...</td>\n",
       "      <td>...</td>\n",
       "      <td>...</td>\n",
       "      <td>...</td>\n",
       "      <td>...</td>\n",
       "      <td>...</td>\n",
       "      <td>...</td>\n",
       "      <td>...</td>\n",
       "      <td>...</td>\n",
       "    </tr>\n",
       "    <tr>\n",
       "      <th>62030</th>\n",
       "      <td>1</td>\n",
       "      <td>DPIW</td>\n",
       "      <td>15110.0</td>\n",
       "      <td>3/31/2010</td>\n",
       "      <td>1PUV</td>\n",
       "      <td>8745</td>\n",
       "      <td>CAT3</td>\n",
       "      <td>missing</td>\n",
       "      <td>missing</td>\n",
       "      <td>13468.0</td>\n",
       "      <td>...</td>\n",
       "      <td>A</td>\n",
       "      <td>10012.0</td>\n",
       "      <td>9D54</td>\n",
       "      <td>WHITE</td>\n",
       "      <td>CA</td>\n",
       "      <td>87562</td>\n",
       "      <td>2006</td>\n",
       "      <td>A</td>\n",
       "      <td>4</td>\n",
       "      <td>11162.0</td>\n",
       "    </tr>\n",
       "    <tr>\n",
       "      <th>62031</th>\n",
       "      <td>0</td>\n",
       "      <td>YOC7</td>\n",
       "      <td>9456.0</td>\n",
       "      <td>10/20/2010</td>\n",
       "      <td>RRJQ</td>\n",
       "      <td>5360</td>\n",
       "      <td>OTHER</td>\n",
       "      <td>B</td>\n",
       "      <td>missing</td>\n",
       "      <td>8543.0</td>\n",
       "      <td>...</td>\n",
       "      <td>A</td>\n",
       "      <td>5439.0</td>\n",
       "      <td>E75G</td>\n",
       "      <td>GOLD</td>\n",
       "      <td>TN</td>\n",
       "      <td>80201</td>\n",
       "      <td>2007</td>\n",
       "      <td>B</td>\n",
       "      <td>3</td>\n",
       "      <td>6147.0</td>\n",
       "    </tr>\n",
       "    <tr>\n",
       "      <th>62032</th>\n",
       "      <td>1</td>\n",
       "      <td>CNKZ</td>\n",
       "      <td>8730.0</td>\n",
       "      <td>5/19/2009</td>\n",
       "      <td>ZCI3</td>\n",
       "      <td>6670</td>\n",
       "      <td>CAT3</td>\n",
       "      <td>A</td>\n",
       "      <td>missing</td>\n",
       "      <td>7217.0</td>\n",
       "      <td>...</td>\n",
       "      <td>A</td>\n",
       "      <td>6219.0</td>\n",
       "      <td>UA42</td>\n",
       "      <td>MAROON</td>\n",
       "      <td>IN</td>\n",
       "      <td>65983</td>\n",
       "      <td>2005</td>\n",
       "      <td>A</td>\n",
       "      <td>4</td>\n",
       "      <td>7620.0</td>\n",
       "    </tr>\n",
       "    <tr>\n",
       "      <th>62033</th>\n",
       "      <td>0</td>\n",
       "      <td>RELA</td>\n",
       "      <td>8546.0</td>\n",
       "      <td>4/30/2009</td>\n",
       "      <td>X7IX</td>\n",
       "      <td>6600</td>\n",
       "      <td>CAT1</td>\n",
       "      <td>A</td>\n",
       "      <td>missing</td>\n",
       "      <td>7316.0</td>\n",
       "      <td>...</td>\n",
       "      <td>A</td>\n",
       "      <td>6311.0</td>\n",
       "      <td>ASW2</td>\n",
       "      <td>SILVER</td>\n",
       "      <td>TX</td>\n",
       "      <td>59780</td>\n",
       "      <td>2006</td>\n",
       "      <td>A</td>\n",
       "      <td>3</td>\n",
       "      <td>7450.0</td>\n",
       "    </tr>\n",
       "    <tr>\n",
       "      <th>62034</th>\n",
       "      <td>0</td>\n",
       "      <td>DUFA</td>\n",
       "      <td>12658.0</td>\n",
       "      <td>11/3/2010</td>\n",
       "      <td>IKAF</td>\n",
       "      <td>8700</td>\n",
       "      <td>CAT2</td>\n",
       "      <td>B</td>\n",
       "      <td>missing</td>\n",
       "      <td>12002.0</td>\n",
       "      <td>...</td>\n",
       "      <td>A</td>\n",
       "      <td>8930.0</td>\n",
       "      <td>FIVQ</td>\n",
       "      <td>GOLD</td>\n",
       "      <td>OK</td>\n",
       "      <td>38703</td>\n",
       "      <td>2009</td>\n",
       "      <td>A</td>\n",
       "      <td>1</td>\n",
       "      <td>9196.0</td>\n",
       "    </tr>\n",
       "  </tbody>\n",
       "</table>\n",
       "<p>62035 rows × 31 columns</p>\n",
       "</div>"
      ],
      "text/plain": [
       "       Junk InteriorsStyle PriceIndex8    ListDate Material  PriceIndex9  \\\n",
       "0         0           6LLJ     14674.0    9/7/2010     UT7W         8270   \n",
       "1         1           XZ9F      4172.0    1/7/2009     PRN0         3890   \n",
       "2         0           QWEV      8210.0   6/23/2010     A9RA         5900   \n",
       "3         0           MK2K      7309.0   3/19/2009     RRJQ         7460   \n",
       "4         0           GK4G      9182.0    3/3/2010     HE5A         6400   \n",
       "...     ...            ...         ...         ...      ...          ...   \n",
       "62030     1           DPIW     15110.0   3/31/2010     1PUV         8745   \n",
       "62031     0           YOC7      9456.0  10/20/2010     RRJQ         5360   \n",
       "62032     1           CNKZ      8730.0   5/19/2009     ZCI3         6670   \n",
       "62033     0           RELA      8546.0   4/30/2009     X7IX         6600   \n",
       "62034     0           DUFA     12658.0   11/3/2010     IKAF         8700   \n",
       "\n",
       "      Agency AreaIncomeType EnvRating PriceIndex7  ...  Region PriceIndex5  \\\n",
       "0       CAT3              B   missing     13143.0  ...       A      9022.0   \n",
       "1       CAT2              B   missing      3461.0  ...       A      2742.0   \n",
       "2       CAT1              B   missing      6922.0  ...       A      3768.0   \n",
       "3      OTHER              A   missing      6300.0  ...       A      5370.0   \n",
       "4      OTHER              B   missing      8330.0  ...       A      4803.0   \n",
       "...      ...            ...       ...         ...  ...     ...         ...   \n",
       "62030   CAT3        missing   missing     13468.0  ...       A     10012.0   \n",
       "62031  OTHER              B   missing      8543.0  ...       A      5439.0   \n",
       "62032   CAT3              A   missing      7217.0  ...       A      6219.0   \n",
       "62033   CAT1              A   missing      7316.0  ...       A      6311.0   \n",
       "62034   CAT2              B   missing     12002.0  ...       A      8930.0   \n",
       "\n",
       "      SubModel  Facade State NormalisedPopulation  BuildYear  RegionType  \\\n",
       "0         6E9G   GREEN    MD                42077       2008           A   \n",
       "1         FIVQ  SILVER    OK                77258       2002           A   \n",
       "2         4K0H  SILVER    SC                94514       2004           A   \n",
       "3         ZLXY   WHITE    NC                82302       2002           C   \n",
       "4         FIVQ  SILVER    SC                49176       2007           B   \n",
       "...        ...     ...   ...                  ...        ...         ...   \n",
       "62030     9D54   WHITE    CA                87562       2006           A   \n",
       "62031     E75G    GOLD    TN                80201       2007           B   \n",
       "62032     UA42  MAROON    IN                65983       2005           A   \n",
       "62033     ASW2  SILVER    TX                59780       2006           A   \n",
       "62034     FIVQ    GOLD    OK                38703       2009           A   \n",
       "\n",
       "      PropertyAge PriceIndex2  \n",
       "0               2     10692.0  \n",
       "1               7      3615.0  \n",
       "2               6      5805.0  \n",
       "3               7      6444.0  \n",
       "4               3      6286.0  \n",
       "...           ...         ...  \n",
       "62030           4     11162.0  \n",
       "62031           3      6147.0  \n",
       "62032           4      7620.0  \n",
       "62033           3      7450.0  \n",
       "62034           1      9196.0  \n",
       "\n",
       "[62035 rows x 31 columns]"
      ]
     },
     "execution_count": 4,
     "metadata": {},
     "output_type": "execute_result"
    }
   ],
   "source": [
    "df"
   ]
  },
  {
   "cell_type": "code",
   "execution_count": 5,
   "metadata": {},
   "outputs": [
    {
     "data": {
      "text/plain": [
       "0        missing\n",
       "1        missing\n",
       "2        missing\n",
       "3        missing\n",
       "4        missing\n",
       "          ...   \n",
       "62030    missing\n",
       "62031    missing\n",
       "62032    missing\n",
       "62033    missing\n",
       "62034    missing\n",
       "Name: EnvRating, Length: 62035, dtype: object"
      ]
     },
     "execution_count": 5,
     "metadata": {},
     "output_type": "execute_result"
    }
   ],
   "source": [
    "df['EnvRating']"
   ]
  },
  {
   "cell_type": "code",
   "execution_count": 14,
   "metadata": {},
   "outputs": [
    {
     "data": {
      "text/plain": [
       "95"
      ]
     },
     "execution_count": 14,
     "metadata": {},
     "output_type": "execute_result"
    }
   ],
   "source": [
    "round(df.loc[df['EnvRating']==\"missing\",'EnvRating'].count()/df['EnvRating'].count()*100)"
   ]
  },
  {
   "cell_type": "code",
   "execution_count": 20,
   "metadata": {},
   "outputs": [
    {
     "data": {
      "text/plain": [
       "0        Sep\n",
       "1        Jan\n",
       "2        Jun\n",
       "3        Mar\n",
       "4        Mar\n",
       "        ... \n",
       "62030    Mar\n",
       "62031    Oct\n",
       "62032    May\n",
       "62033    Apr\n",
       "62034    Nov\n",
       "Name: month, Length: 62035, dtype: object"
      ]
     },
     "execution_count": 20,
     "metadata": {},
     "output_type": "execute_result"
    }
   ],
   "source": [
    "df['month'] = pd.DatetimeIndex(df['ListDate']).month\n",
    "df['month'] = df['month'].replace({1:'Jan',2:'Feb',3:'Mar',4:'Apr',5:'May',6:'Jun',7:'Jul',8:'Aug',9:'Sep',10:'Oct',11:'Nov',12:'Dec'})\n",
    "df['month']"
   ]
  },
  {
   "cell_type": "code",
   "execution_count": 22,
   "metadata": {},
   "outputs": [
    {
     "data": {
      "text/plain": [
       "month\n",
       "Oct    6098\n",
       "Feb    5784\n",
       "Nov    5699\n",
       "Sep    5503\n",
       "Mar    5323\n",
       "Aug    5228\n",
       "Apr    5052\n",
       "Jul    5008\n",
       "Jun    4869\n",
       "May    4849\n",
       "Dec    4561\n",
       "Jan    4061\n",
       "Name: month, dtype: int64"
      ]
     },
     "execution_count": 22,
     "metadata": {},
     "output_type": "execute_result"
    }
   ],
   "source": [
    "df['month'].groupby(df['month']).count().sort_values(ascending=False)"
   ]
  },
  {
   "cell_type": "code",
   "execution_count": 24,
   "metadata": {},
   "outputs": [
    {
     "data": {
      "text/plain": [
       "Agency\n",
       "CAT1       10275\n",
       "CAT2        8318\n",
       "CAT3        7524\n",
       "OTHER       4447\n",
       "missing        1\n",
       "Name: Agency, dtype: int64"
      ]
     },
     "execution_count": 24,
     "metadata": {},
     "output_type": "execute_result"
    }
   ],
   "source": [
    "df.loc[df['AreaIncomeType'] == 'A','Agency'].groupby(df['Agency']).count().sort_values(ascending=False)"
   ]
  },
  {
   "cell_type": "code",
   "execution_count": 36,
   "metadata": {},
   "outputs": [
    {
     "data": {
      "text/plain": [
       "State\n",
       "FL    134\n",
       "SC     89\n",
       "TX     84\n",
       "NC     55\n",
       "CA     38\n",
       "PA     20\n",
       "CO     15\n",
       "GA     15\n",
       "VA     15\n",
       "TN     14\n",
       "AZ      9\n",
       "NV      6\n",
       "OK      6\n",
       "MD      5\n",
       "MO      5\n",
       "AL      3\n",
       "IN      3\n",
       "UT      3\n",
       "WV      2\n",
       "NJ      2\n",
       "AR      2\n",
       "LA      2\n",
       "OR      1\n",
       "NM      1\n",
       "MA      1\n",
       "IL      1\n",
       "MS      1\n",
       "Name: State, dtype: int64"
      ]
     },
     "execution_count": 36,
     "metadata": {},
     "output_type": "execute_result"
    }
   ],
   "source": [
    "df.loc[df['PropertyAge'] == df['PropertyAge'].max(),'State'].groupby(df['State']).count().sort_values(ascending=False)"
   ]
  },
  {
   "cell_type": "code",
   "execution_count": 32,
   "metadata": {},
   "outputs": [
    {
     "data": {
      "text/plain": [
       "4.0"
      ]
     },
     "execution_count": 32,
     "metadata": {},
     "output_type": "execute_result"
    }
   ],
   "source": [
    "df['PropertyAge'].median()"
   ]
  },
  {
   "cell_type": "code",
   "execution_count": 41,
   "metadata": {},
   "outputs": [
    {
     "data": {
      "text/plain": [
       "73381.30404205926"
      ]
     },
     "execution_count": 41,
     "metadata": {},
     "output_type": "execute_result"
    }
   ],
   "source": [
    "df.loc[df['Architecture'] == 'YIK5','NormalisedPopulation'].mean()"
   ]
  },
  {
   "cell_type": "code",
   "execution_count": null,
   "metadata": {},
   "outputs": [],
   "source": []
  }
 ],
 "metadata": {
  "kernelspec": {
   "display_name": "Python 3",
   "language": "python",
   "name": "python3"
  },
  "language_info": {
   "codemirror_mode": {
    "name": "ipython",
    "version": 3
   },
   "file_extension": ".py",
   "mimetype": "text/x-python",
   "name": "python",
   "nbconvert_exporter": "python",
   "pygments_lexer": "ipython3",
   "version": "3.12.0"
  }
 },
 "nbformat": 4,
 "nbformat_minor": 2
}
